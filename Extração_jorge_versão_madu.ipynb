{
 "cells": [
  {
   "cell_type": "code",
   "execution_count": 1,
   "metadata": {},
   "outputs": [],
   "source": [
    "import pandas as pd \n",
    "import json\n",
    "from google.cloud import bigquery\n",
    "from google.oauth2 import service_account"
   ]
  },
  {
   "cell_type": "markdown",
   "metadata": {},
   "source": [
    "OBSERVAÇÕES: \n",
    "\n",
    "Eu rodei o próprio arquivo que você me mandou e deu certo! (a única coisa que eu fiz foi mudar o path do arquivo de credenciais para funcionar no meu computador)\n",
    "\n",
    "Nesse arquivo eu so reorganizei o codigo e tirei algumas linhas redundantes (literalmente linhas de codigo iguais ou outras linhas que eu fui testando tirar e não mudou nada). Não adicionei nenhum código diferente\n",
    "\n",
    "Reorganizei para que ficasse mais facil de entender. Preste atenção no que é feito por cada linha de código para entender melhor o processo e de fato aprender\n",
    "\n",
    "Tenta rodar para ver se da certo. ATENÇÃO: precisa mudar o path do SERVICE_ACCOUNT_FILE e se der certo aumente o limite (atualmente ele está pegando só 1 linha da tabela)\n",
    "\n",
    "Se não der certo, a gente tenta procurar mais a fundo o problema, mas ele não está código já que o meu rodou. Você pode pedir para a Madu rodar tbm e ver se da certo"
   ]
  },
  {
   "cell_type": "code",
   "execution_count": 2,
   "metadata": {},
   "outputs": [],
   "source": [
    "SERVICE_ACCOUNT_FILE = r\"C:\\Users\\dudah\\Downloads\\farmanates creden.json\"\n",
    "\n",
    "\n",
    "SCOPES = ['https://www.googleapis.com/auth/cloud-platform']\n",
    "\n",
    "credentials = service_account.Credentials.from_service_account_file(\n",
    "    SERVICE_ACCOUNT_FILE,\n",
    "    scopes=SCOPES\n",
    ")\n",
    "\n",
    "client = bigquery.Client(credentials=credentials)\n",
    "\n",
    "project_id = \"farmanates\""
   ]
  },
  {
   "cell_type": "code",
   "execution_count": 3,
   "metadata": {},
   "outputs": [
    {
     "name": "stdout",
     "output_type": "stream",
     "text": [
      "Datasets disponíveis no projeto:\n",
      "dataset_farmacias\n"
     ]
    }
   ],
   "source": [
    "datasets = list(client.list_datasets())\n",
    "if datasets:\n",
    "    print(\"Datasets disponíveis no projeto:\")\n",
    "    for dataset in datasets:\n",
    "        print(dataset.dataset_id)\n",
    "else:\n",
    "    print(\"Nenhum dataset encontrado no projeto.\")"
   ]
  },
  {
   "cell_type": "code",
   "execution_count": 4,
   "metadata": {},
   "outputs": [
    {
     "name": "stdout",
     "output_type": "stream",
     "text": [
      "Tabelas disponíveis no dataset dataset_farmacias:\n",
      "Drogaria São Paulo\n",
      "Farma Ponte\n",
      "Vera Cruz\n"
     ]
    }
   ],
   "source": [
    "#configuração do dataset\n",
    "dataset_id = \"dataset_farmacias\"  # Dataset correto\n",
    "\n",
    "tables = list(client.list_tables(f\"{project_id}.{dataset_id}\"))\n",
    "if tables:\n",
    "    print(f\"Tabelas disponíveis no dataset {dataset_id}:\")\n",
    "    for table in tables:\n",
    "        print(table.table_id)\n",
    "else:\n",
    "    print(f\"Nenhuma tabela encontrada no dataset {dataset_id}.\")"
   ]
  },
  {
   "cell_type": "code",
   "execution_count": null,
   "metadata": {},
   "outputs": [],
   "source": [
    "import sys\n",
    "!{sys.executable} -m pip install --upgrade db-dtypes google-cloud-bigquery pandas\n",
    "\n",
    "project_id = \"farmanates\"  # Substitua pelo ID correto do seu projeto no GCP\n",
    "dataset_id = \"dataset_farmacias\"  # Substitua pelo ID do dataset no BigQuery\n",
    "table_id = \"Drogaria_Sao_Paulo\"  # O nome da tabela deve estar sem espaços\n",
    "\n",
    "# Query corrigida\n",
    "query = f\"\"\"\n",
    "SELECT * FROM `{project_id}.{dataset_id}.{table_id}`\n",
    "LIMIT 7\n",
    "\"\"\"\n",
    "\n",
    "# Executar a consulta e carregar os dados em um DataFrame pandas\n",
    "df = client.query(query).to_dataframe()\n",
    "\n",
    "# Exibir os primeiros registros\n",
    "df\n",
    "\n"
   ]
  }
 ],
 "metadata": {
  "kernelspec": {
   "display_name": "Python 3",
   "language": "python",
   "name": "python3"
  },
  "language_info": {
   "codemirror_mode": {
    "name": "ipython",
    "version": 3
   },
   "file_extension": ".py",
   "mimetype": "text/x-python",
   "name": "python",
   "nbconvert_exporter": "python",
   "pygments_lexer": "ipython3",
   "version": "3.11.9"
  }
 },
 "nbformat": 4,
 "nbformat_minor": 2
}
