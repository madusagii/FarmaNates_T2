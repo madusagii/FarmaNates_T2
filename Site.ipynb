{
 "cells": [
  {
   "cell_type": "markdown",
   "metadata": {},
   "source": [
    "A extração dos itens foi \"fatiada\" em seções e categorias para facilitar e permitir que o processo seja realizado corretamente. Assim, são mais de um código, separados em categorias (como \"Infantil\" ou \"Medicamentos\", por exemplo), e as categorias são divididas em subdivisões (\"Marcas\", por exemplo), afim de dividir volumes grandes de produtos (já que grandes volumes podem demorar muito tempo para rodar, além de aumentar as chances de encontrar algum problema nas páginas e dificultar o encontro do mesmo).\n",
    "Foi observado que os links mudam conforme as categorias, páginas carregadas e filtros aplicados."
   ]
  },
  {
   "cell_type": "markdown",
   "metadata": {},
   "source": [
    "O código abaixo é capaz de extrair os nomes e preços dos produtos a partir do link, porém se limita aos produtos já carregados (15, no caso das páginas de categorias). Assim, é um passo inicial mas não é o que buscamos."
   ]
  },
  {
   "cell_type": "code",
   "execution_count": null,
   "metadata": {},
   "outputs": [
    {
     "name": "stdout",
     "output_type": "stream",
     "text": [
      "Produto: Centrum Pó Energia Sachê Sabor Guaraná - 5g - Preço: R$3,99\n",
      "Produto: Pantoprazol 20mg com 28 Comprimidos - Cimed Genérico - Preço: R$6,14\n",
      "Produto: Pantoprazol 20mg com 28 Comprimidos - Biosintetica Genérico - Preço: R$4,14\n",
      "Produto: Desogestrel 0,75mg com 84 Comprimidos - Eurofarma Genérico - Preço: R$28,19\n",
      "Produto: Desogestrel 0,75mg com 84 Comprimidos - Germed Genérico - Preço: R$24,46\n",
      "Produto: Adeforte com 30 Cápsulas  - Gross - Preço: R$42,49\n",
      "Produto: Font D 2.000UI Gotas com 10ml - União Química - Preço: R$17,66\n",
      "Produto: Peagesic 300mg com 30 Comprimidos - Eurofarma - Preço: R$209,49\n",
      "Produto: Dorflex com 36 Comprimidos - Sanofi - Preço: R$16,90\n",
      "Produto: Dipirona Sódica Sabor Abacaxi Gotasl  20ml - Neo Química Genérico - Preço: R$5,49\n",
      "Produto: Vitamina D3 7.000UI com 30 Cápsulas - Neo Química Genérico - Preço: R$10,00\n",
      "Produto: Aerodini Spray com 200 Doses - Teuto - Preço: R$26,53\n",
      "Produto: Colírio Teuto - 20ml - Preço: R$9,99\n",
      "Produto: Leite de Magnésia Magmilk Tradicional com 100ml - Airela - Preço: R$8,64\n",
      "Produto: Deltametril D Emulsão Capilar 4% com 100ml - Medquímica - Preço: R$26,90\n"
     ]
    }
   ],
   "source": [
    "import requests\n",
    "from bs4 import BeautifulSoup\n",
    "\n",
    "url = 'https://www.drogariasminasmais.com.br/medicamentos' \n",
    "\n",
    "# Realizando o pedido da página\n",
    "response = requests.get(url)\n",
    "\n",
    "# Criando o objeto BeautifulSoup\n",
    "soup = BeautifulSoup(response.content, 'html.parser')\n",
    "\n",
    "product_name_elements = soup.find_all('span', class_='vtex-product-summary-2-x-productBrand')\n",
    "\n",
    "price_elements = soup.find_all('span', class_='vtex-product-price-1-x-sellingPriceValue')\n",
    "\n",
    "if len(product_name_elements) == len(price_elements):\n",
    "    for name, price in zip(product_name_elements, price_elements):\n",
    "        \n",
    "        product_name = name.get_text(strip=True)\n",
    "        price_value = price.get_text(strip=True)\n",
    "        \n",
    "\n",
    "        print(f'Produto: {product_name} - Preço: {price_value}')\n",
    "else:\n",
    "    print(\"Número de produtos e preços não coincidem.\")\n"
   ]
  },
  {
   "cell_type": "markdown",
   "metadata": {},
   "source": [
    "Esse código (abaixo) é capaz de pesquisar as páginas seguintes e carregar mais produtos, tendo um limite de produtos (que pode ser alterado) e a quantidade de produtos por página. Porém, devido a grande quantidade de alguns dados, ele não carrega algumas categrorias. No caso de \"Nossas Vitaminas\", por exemplo, o código é funcional. "
   ]
  },
  {
   "cell_type": "code",
   "execution_count": 7,
   "metadata": {},
   "outputs": [
    {
     "name": "stdout",
     "output_type": "stream",
     "text": [
      "Produto: Fralda Hipopó Baby Hiper XXG - 40 Unidades - Preço: R$35,90\n",
      "Produto: Fralda Hipopó Baby Hiper P - 80 Unidades - Preço: R$35,90\n",
      "Produto: Fralda Hipopó Baby Hiper XG - 50 Unidades - Preço: R$35,90\n",
      "Produto: Fralda Hipopó Baby Hiper G - 60 Unidades - Preço: R$35,90\n",
      "Produto: Fralda Hipopó Baby Hiper M - 70 Unidades - Preço: R$35,90\n",
      "Produto: MALVATRIKIDS EXTRATO NATURAL MORANGO 250ML - Preço: R$20,99\n",
      "Produto: Sabonete Líquido Glicerina Skalinha Bebê - 200ml - Preço: R$10,99\n",
      "Produto: Fralda Babysec Ultrasec Hiper Galinha Pintadinha Tamanho XXG - 48 Uni - Preço: R$68,90\n",
      "Produto: Ninho Fases 1 - 800g - Preço: R$44,99\n",
      "Produto: Conchas Protetoras para Amamentação - Preço: R$39,99\n",
      "Produto: Seringa de Lavagem Nasal Infantil - Pintinho Amarelinho - Preço: R$11,90\n",
      "Produto: Concha Macia Amamentação - Lolly - Preço: R$49,99\n",
      "Produto: Protetor de Mamilos Adesivo Adereup - Reutilizável - Preço: R$35,99\n",
      "Produto: Protetor De Mamilo - Lillo - Preço: R$26,99\n",
      "Produto: Copo Térmico Parede Dupla Degrade Azul - Preço: R$78,99\n",
      "Produto: Copo Térmico Parede Dupla Degradê Rosa - Preço: R$78,99\n",
      "Produto: Kit Protetores de Quina com 4 Unidades - Preço: R$12,99\n",
      "Produto: Kit BubaTravas Flexíveis Multiuso P e G com 7 Unidades - Preço: R$39,99\n",
      "Produto: Limpa Chupeta Lenços Umedecidos com 30 Unidades - Preço: R$14,99\n",
      "Produto: Kit Baby Rosa - Marco Boni - Preço: R$21,99\n",
      "Produto: Kit Baby Blue Line - Marco Boni - Preço: R$21,99\n",
      "Produto: Cereal Infantil Papapá Aveia Multicereais Sache - 500g - Preço: R$24,99\n",
      "Produto: Cereal Infantil Papapá Aveia Multicereais Sachê - 170g - Preço: R$9,99\n",
      "Produto: Cereal Infantil Papapá Aveia, Banana e Ameixa Sachê - 170g - Preço: R$9,99\n",
      "Produto: Biscoito Infantil Papapá Biscotti com Maçã e Canela - 60g - Preço: R$12,99\n",
      "Produto: Biscoito Infantil Papapá Biscotti com Laranja e Cenoura - 60g - Preço: R$12,99\n",
      "Produto: Biscoito Infantil Papapá Biscotti com Banana e Cacau - 60g - Preço: R$12,99\n",
      "Produto: Garrafa Squeeze Princesas Turma do Bolinha - 250ml - Preço: R$7,99\n",
      "Produto: Garrafa Squeeze Princesas - 450ml - Preço: R$9,99\n",
      "Produto: GARRAFA SQUEEZE MINNIE BOLINHA 250ML - Preço: R$9,99\n",
      "Produto: Garrafa Squeeze Stitch Sleeve Pet - 450ml - Preço: R$9,99\n",
      "Produto: Garrafa Squeeze Marvel Comics - 250ml - Preço: R$7,99\n",
      "Produto: GARRAFA SQUEEZE MINNIE 250ML - Preço: R$7,99\n",
      "Produto: Garrafa Squeeze Stitch Sleeve Pet - 250ml - Preço: R$7,99\n",
      "Produto: GARRAFA SQUEEZE MINNIE BOLINHA 250ML - Preço: R$7,99\n",
      "Produto: GARRAFA SQUEEZE DIVERTIDAMENTE BOLINHA 250ML - Preço: R$7,99\n",
      "Produto: Lenços Umedecidos Bepantol Biodegradável - 48 Unidades - Preço: R$25,49\n",
      "Produto: Shampoo Baruel Baby Sono Tranquilo Refil - 210ml - Preço: R$8,99\n",
      "Produto: Shampoo Baruel Baby Suave Refil - 210ml - Preço: R$8,99\n",
      "Produto: Brinquedo Carrinho - Bate Pula - Preço: R$10,99\n",
      "Produto: Fralda Babysec Shortinho Hiper G - 52 Uni - Preço: R$69,90\n",
      "Produto: Fralda Huggies Roupinha Supreme Care Hiper XG - 48 Fraldas - Preço: R$93,90\n",
      "Produto: Fralda Babysec Shortinho Hiper XG - 42 Uni - Preço: R$69,90\n",
      "Produto: Fralda Babysec Shortinho Hiper XXG - 42 Uni - Preço: R$69,90\n",
      "Produto: Garrafa Plástica Patrulha Canina Rosa - 280ml - Preço: R$9,99\n",
      "Total de produtos coletados: 45\n"
     ]
    }
   ],
   "source": [
    "import requests\n",
    "from bs4 import BeautifulSoup\n",
    "import time\n",
    "\n",
    "# Adicionando um pequeno atraso entre as requisições\n",
    "time.sleep(1)  # Atraso de 1 segundo\n",
    "\n",
    "# URL base do site\n",
    "base_url = 'https://www.drogariasminasmais.com.br/infantil'\n",
    "\n",
    "# Número total de produtos e produtos por página\n",
    "total_products = 32\n",
    "products_per_page = 15\n",
    "\n",
    "# Calculando o número total de páginas\n",
    "total_pages = total_products // products_per_page + (1 if total_products % products_per_page != 0 else 0)\n",
    "\n",
    "all_products = []\n",
    "\n",
    "# Loop para percorrer todas as páginas\n",
    "for page_num in range(1, total_pages + 1):\n",
    "    # URL da página com a numeração\n",
    "    url = f'{base_url}?page={page_num}'\n",
    "    \n",
    "    # Realizando a requisição para a página\n",
    "    response = requests.get(url)\n",
    "    \n",
    "    if response.status_code != 200:\n",
    "        print(f\"Erro ao acessar a página {page_num}: {response.status_code}\")\n",
    "        continue\n",
    "    \n",
    "    # Usando BeautifulSoup para parsear o conteúdo\n",
    "    soup = BeautifulSoup(response.content, 'html.parser')\n",
    "    \n",
    "    # Encontrando os elementos dos produtos na página\n",
    "    product_name_elements = soup.find_all('span', class_='vtex-product-summary-2-x-productBrand')\n",
    "    price_elements = soup.find_all('span', class_='vtex-product-price-1-x-sellingPriceValue')\n",
    "\n",
    "    # Verificando se o número de produtos e preços coincide\n",
    "    if len(product_name_elements) == len(price_elements):\n",
    "        for name, price in zip(product_name_elements, price_elements):\n",
    "            product_name = name.get_text(strip=True)\n",
    "            price_value = price.get_text(strip=True)\n",
    "            all_products.append({'name': product_name, 'price': price_value})\n",
    "            print(f'Produto: {product_name} - Preço: {price_value}')\n",
    "           \n",
    "    else:\n",
    "        print(f\"Erro na página {page_num}: o número de produtos e preços não coincide.\")\n",
    "\n",
    "print(f\"Total de produtos coletados: {len(all_products)}\")\n"
   ]
  },
  {
   "cell_type": "markdown",
   "metadata": {},
   "source": [
    "Esse nao roda tudo. Nao tem qtd de produtos."
   ]
  },
  {
   "cell_type": "code",
   "execution_count": 6,
   "metadata": {},
   "outputs": [
    {
     "name": "stdout",
     "output_type": "stream",
     "text": [
      "Erro ao acessar a API na página 1: 400\n",
      "Total de produtos coletados: 0\n"
     ]
    }
   ],
   "source": [
    "import requests\n",
    "from bs4 import BeautifulSoup\n",
    "import time\n",
    "\n",
    "# Atraso entre as requisições para evitar sobrecarregar o servidor\n",
    "time.sleep(1)\n",
    "\n",
    "# URL base do site\n",
    "base_url = 'https://www.drogariasminasmais.com.br/infantil'\n",
    "\n",
    "# Número de produtos por página esperado\n",
    "products_per_page = 15\n",
    "\n",
    "# Variáveis de controle\n",
    "all_products = []\n",
    "page_num = 1  # Página inicial\n",
    "\n",
    "while True:\n",
    "    # Montando a URL da página com a numeração\n",
    "    url = f'{base_url}?page={page_num}'\n",
    "    \n",
    "    # Realizando a requisição para a página\n",
    "    response = requests.get(url)\n",
    "    \n",
    "    if response.status_code != 200:\n",
    "        print(f\"Erro ao acessar a página {page_num}: {response.status_code}\")\n",
    "        break  # Interrompe o loop caso haja erro na requisição\n",
    "    \n",
    "    # Usando BeautifulSoup para parsear o conteúdo da página\n",
    "    soup = BeautifulSoup(response.content, 'html.parser')\n",
    "    \n",
    "    # Encontrando os elementos dos produtos na página\n",
    "    product_name_elements = soup.find_all('span', class_='vtex-product-summary-2-x-productBrand')\n",
    "    price_elements = soup.find_all('span', class_='vtex-product-price-1-x-sellingPriceValue')\n",
    "\n",
    "    # Verificando se há produtos na página\n",
    "    if len(product_name_elements) == 0:\n",
    "        print(\"Nenhum produto encontrado, finalizando a coleta.\")\n",
    "        break  # Se não houver produtos, termina a coleta\n",
    "    \n",
    "    # Verificando se o número de produtos e preços coincide\n",
    "    if len(product_name_elements) == len(price_elements):\n",
    "        for name, price in zip(product_name_elements, price_elements):\n",
    "            product_name = name.get_text(strip=True)\n",
    "            price_value = price.get_text(strip=True)\n",
    "            all_products.append({'name': product_name, 'price': price_value})\n",
    "            print(f'Produto: {product_name} - Preço: {price_value}')\n",
    "        \n",
    "        page_num += 1  # Aumenta o número da página para continuar a busca\n",
    "    else:\n",
    "        print(f\"Erro na página {page_num}: o número de produtos e preços não coincide.\")\n",
    "        break  # Interrompe o loop caso haja erro na estrutura da página\n",
    "\n",
    "# Exibe o total de produtos coletados\n",
    "print(f\"Total de produtos coletados: {len(all_products)}\")\n"
   ]
  }
 ],
 "metadata": {
  "kernelspec": {
   "display_name": "Python 3",
   "language": "python",
   "name": "python3"
  },
  "language_info": {
   "codemirror_mode": {
    "name": "ipython",
    "version": 3
   },
   "file_extension": ".py",
   "mimetype": "text/x-python",
   "name": "python",
   "nbconvert_exporter": "python",
   "pygments_lexer": "ipython3",
   "version": "3.11.9"
  }
 },
 "nbformat": 4,
 "nbformat_minor": 2
}
