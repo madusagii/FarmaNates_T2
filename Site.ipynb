{
 "cells": [
  {
   "cell_type": "code",
   "execution_count": null,
   "metadata": {},
   "outputs": [],
   "source": [
    "import requests\n",
    "from bs4 import BeautifulSoup\n",
    "\n",
    "# URL do site de nutrição esportiva\n",
    "url = 'https://www.drogariasminasmais.com.br/nutricao-esportiva'\n",
    "\n",
    "# Realizando o pedido da página\n",
    "response = requests.get(url)\n",
    "\n",
    "soup = BeautifulSoup(response.content, 'html.parser')\n",
    "\n",
    "product_name_elements = soup.find_all('span', class_='vtex-product-summary-2-x-productBrand')\n",
    "\n",
    "price_elements = soup.find_all('span', class_='vtex-product-price-1-x-sellingPriceValue')\n",
    "\n",
    "if len(product_name_elements) == len(price_elements):\n",
    "    for name, price in zip(product_name_elements, price_elements):\n",
    "        # Extraindo o nome e o preço\n",
    "        product_name = name.get_text(strip=True)\n",
    "        price_value = price.get_text(strip=True)\n",
    "        \n",
    "        # Imprimindo o nome do produto e o preço\n",
    "        print(f'Produto: {product_name} - Preço: {price_value}')\n",
    "else:\n",
    "    print(\"Número de produtos e preços não coincidem.\")\n"
   ]
  },
  {
   "cell_type": "code",
   "execution_count": 1,
   "metadata": {},
   "outputs": [
    {
     "name": "stdout",
     "output_type": "stream",
     "text": [
      "Produto: Centrum Pó Energia Sachê Sabor Guaraná - 5g - Preço: R$3,99\n",
      "Produto: Pantoprazol 20mg com 28 Comprimidos - Cimed Genérico - Preço: R$6,14\n",
      "Produto: Pantoprazol 20mg com 28 Comprimidos - Biosintetica Genérico - Preço: R$4,14\n",
      "Produto: Desogestrel 0,75mg com 84 Comprimidos - Eurofarma Genérico - Preço: R$28,19\n",
      "Produto: Desogestrel 0,75mg com 84 Comprimidos - Germed Genérico - Preço: R$24,46\n",
      "Produto: Adeforte com 30 Cápsulas  - Gross - Preço: R$42,49\n",
      "Produto: Font D 2.000UI Gotas com 10ml - União Química - Preço: R$17,66\n",
      "Produto: Peagesic 300mg com 30 Comprimidos - Eurofarma - Preço: R$209,49\n",
      "Produto: Dorflex com 36 Comprimidos - Sanofi - Preço: R$16,90\n",
      "Produto: Dipirona Sódica Sabor Abacaxi Gotasl  20ml - Neo Química Genérico - Preço: R$5,49\n",
      "Produto: Vitamina D3 7.000UI com 30 Cápsulas - Neo Química Genérico - Preço: R$10,00\n",
      "Produto: Aerodini Spray com 200 Doses - Teuto - Preço: R$26,53\n",
      "Produto: Colírio Teuto - 20ml - Preço: R$9,99\n",
      "Produto: Leite de Magnésia Magmilk Tradicional com 100ml - Airela - Preço: R$8,64\n",
      "Produto: Deltametril D Emulsão Capilar 4% com 100ml - Medquímica - Preço: R$26,90\n"
     ]
    }
   ],
   "source": [
    "import requests\n",
    "from bs4 import BeautifulSoup\n",
    "\n",
    "url = 'https://www.drogariasminasmais.com.br/medicamentos'\n",
    "\n",
    "# Realizando o pedido da página\n",
    "response = requests.get(url)\n",
    "\n",
    "# Criando o objeto BeautifulSoup\n",
    "soup = BeautifulSoup(response.content, 'html.parser')\n",
    "\n",
    "product_name_elements = soup.find_all('span', class_='vtex-product-summary-2-x-productBrand')\n",
    "\n",
    "price_elements = soup.find_all('span', class_='vtex-product-price-1-x-sellingPriceValue')\n",
    "\n",
    "if len(product_name_elements) == len(price_elements):\n",
    "    for name, price in zip(product_name_elements, price_elements):\n",
    "        \n",
    "        product_name = name.get_text(strip=True)\n",
    "        price_value = price.get_text(strip=True)\n",
    "        \n",
    "\n",
    "        print(f'Produto: {product_name} - Preço: {price_value}')\n",
    "else:\n",
    "    print(\"Número de produtos e preços não coincidem.\")\n"
   ]
  }
 ],
 "metadata": {
  "kernelspec": {
   "display_name": "Python 3",
   "language": "python",
   "name": "python3"
  },
  "language_info": {
   "codemirror_mode": {
    "name": "ipython",
    "version": 3
   },
   "file_extension": ".py",
   "mimetype": "text/x-python",
   "name": "python",
   "nbconvert_exporter": "python",
   "pygments_lexer": "ipython3",
   "version": "3.11.9"
  }
 },
 "nbformat": 4,
 "nbformat_minor": 2
}
